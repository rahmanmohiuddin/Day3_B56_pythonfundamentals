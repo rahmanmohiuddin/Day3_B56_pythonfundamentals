{
 "cells": [
  {
   "cell_type": "code",
   "execution_count": null,
   "id": "f906c7f6",
   "metadata": {},
   "outputs": [],
   "source": [
    "continutatin with strings :"
   ]
  },
  {
   "cell_type": "code",
   "execution_count": null,
   "id": "37db23ef",
   "metadata": {},
   "outputs": [],
   "source": [
    "introduction to strings methods :"
   ]
  },
  {
   "cell_type": "code",
   "execution_count": null,
   "id": "1985874d",
   "metadata": {},
   "outputs": [],
   "source": []
  },
  {
   "cell_type": "code",
   "execution_count": 1,
   "id": "05290d1a",
   "metadata": {},
   "outputs": [
    {
     "name": "stdout",
     "output_type": "stream",
     "text": [
      "abdul\n"
     ]
    }
   ],
   "source": [
    "name = \"abdul\"\n",
    "print(name)"
   ]
  },
  {
   "cell_type": "code",
   "execution_count": null,
   "id": "8ab74971",
   "metadata": {},
   "outputs": [],
   "source": []
  },
  {
   "cell_type": "code",
   "execution_count": null,
   "id": "cf169e7b",
   "metadata": {},
   "outputs": [],
   "source": [
    "type------> it will be helping us to validate the datatype."
   ]
  },
  {
   "cell_type": "code",
   "execution_count": 2,
   "id": "3127be4e",
   "metadata": {},
   "outputs": [
    {
     "data": {
      "text/plain": [
       "str"
      ]
     },
     "execution_count": 2,
     "metadata": {},
     "output_type": "execute_result"
    }
   ],
   "source": [
    "type(name)"
   ]
  },
  {
   "cell_type": "code",
   "execution_count": null,
   "id": "fdf93919",
   "metadata": {},
   "outputs": [],
   "source": [
    "string-------> str"
   ]
  },
  {
   "cell_type": "code",
   "execution_count": null,
   "id": "2091902f",
   "metadata": {},
   "outputs": [],
   "source": []
  },
  {
   "cell_type": "code",
   "execution_count": 3,
   "id": "c2788e09",
   "metadata": {},
   "outputs": [
    {
     "name": "stdout",
     "output_type": "stream",
     "text": [
      "apple\n"
     ]
    }
   ],
   "source": [
    "fruit =\"apple\"\n",
    "print(fruit)"
   ]
  },
  {
   "cell_type": "code",
   "execution_count": 4,
   "id": "b925de64",
   "metadata": {},
   "outputs": [
    {
     "data": {
      "text/plain": [
       "str"
      ]
     },
     "execution_count": 4,
     "metadata": {},
     "output_type": "execute_result"
    }
   ],
   "source": [
    "type(name)"
   ]
  },
  {
   "cell_type": "code",
   "execution_count": null,
   "id": "30e57199",
   "metadata": {},
   "outputs": [],
   "source": []
  },
  {
   "cell_type": "code",
   "execution_count": 5,
   "id": "8e27496d",
   "metadata": {},
   "outputs": [
    {
     "name": "stdout",
     "output_type": "stream",
     "text": [
      "sanjay singh\n"
     ]
    }
   ],
   "source": [
    "full_name=\"sanjay singh\"\n",
    "print(full_name)"
   ]
  },
  {
   "cell_type": "code",
   "execution_count": 6,
   "id": "22b22f15",
   "metadata": {},
   "outputs": [
    {
     "name": "stdout",
     "output_type": "stream",
     "text": [
      "Sanjay Singh\n"
     ]
    }
   ],
   "source": [
    "print(full_name.title())"
   ]
  },
  {
   "cell_type": "code",
   "execution_count": null,
   "id": "8c66b18f",
   "metadata": {},
   "outputs": [],
   "source": [
    "# req : i want to have the full name in caspital letters"
   ]
  },
  {
   "cell_type": "code",
   "execution_count": 7,
   "id": "3fc01347",
   "metadata": {},
   "outputs": [
    {
     "name": "stdout",
     "output_type": "stream",
     "text": [
      "sanjay singh\n"
     ]
    }
   ],
   "source": [
    "print(full_name.lower())"
   ]
  },
  {
   "cell_type": "code",
   "execution_count": null,
   "id": "a90180c7",
   "metadata": {},
   "outputs": [],
   "source": []
  },
  {
   "cell_type": "code",
   "execution_count": null,
   "id": "1c0f8706",
   "metadata": {},
   "outputs": [],
   "source": [
    "introduction to f strings :"
   ]
  },
  {
   "cell_type": "code",
   "execution_count": null,
   "id": "51370644",
   "metadata": {},
   "outputs": [],
   "source": [
    "# general syntax of the f strings:"
   ]
  },
  {
   "cell_type": "code",
   "execution_count": null,
   "id": "c6fc460c",
   "metadata": {},
   "outputs": [],
   "source": [
    "f\"custom words, {placeholder...1}{placeholder...2}{placeholder...n}\""
   ]
  },
  {
   "cell_type": "code",
   "execution_count": null,
   "id": "4c6384ff",
   "metadata": {},
   "outputs": [],
   "source": []
  },
  {
   "cell_type": "code",
   "execution_count": 16,
   "id": "4985275d",
   "metadata": {},
   "outputs": [],
   "source": [
    "firstname ='sanjay'\n",
    "lastname ='singh'"
   ]
  },
  {
   "cell_type": "code",
   "execution_count": 17,
   "id": "a93d5256",
   "metadata": {},
   "outputs": [],
   "source": [
    "# req: i want to get the fullname....?"
   ]
  },
  {
   "cell_type": "code",
   "execution_count": 18,
   "id": "21bf45cc",
   "metadata": {},
   "outputs": [
    {
     "name": "stdout",
     "output_type": "stream",
     "text": [
      "sanjay singh\n"
     ]
    }
   ],
   "source": [
    "full_name = f\"{firstname} {lastname}\"\n",
    "\n",
    "print(full_name)"
   ]
  },
  {
   "cell_type": "code",
   "execution_count": 20,
   "id": "f9c50d4a",
   "metadata": {},
   "outputs": [
    {
     "name": "stdout",
     "output_type": "stream",
     "text": [
      "Sanjay Singh\n"
     ]
    }
   ],
   "source": [
    "print(full_name.title())"
   ]
  },
  {
   "cell_type": "code",
   "execution_count": 22,
   "id": "8ec3e9fd",
   "metadata": {},
   "outputs": [
    {
     "name": "stdout",
     "output_type": "stream",
     "text": [
      "keep up the good work, Sanjay Singh\n"
     ]
    }
   ],
   "source": [
    "print(f\"keep up the good work, {full_name.title()}\")"
   ]
  },
  {
   "cell_type": "code",
   "execution_count": null,
   "id": "f918e3ed",
   "metadata": {},
   "outputs": [],
   "source": []
  },
  {
   "cell_type": "code",
   "execution_count": null,
   "id": "c8903252",
   "metadata": {},
   "outputs": [],
   "source": [
    "adding whitespaces to strings :"
   ]
  },
  {
   "cell_type": "code",
   "execution_count": 23,
   "id": "00336c45",
   "metadata": {},
   "outputs": [
    {
     "name": "stdout",
     "output_type": "stream",
     "text": [
      "favourite_language:pythonc++javacswiftcobal\n"
     ]
    }
   ],
   "source": [
    "print(\"favourite_language:pythonc++javacswiftcobal\")"
   ]
  },
  {
   "cell_type": "code",
   "execution_count": 24,
   "id": "9f4d01ef",
   "metadata": {},
   "outputs": [
    {
     "name": "stdout",
     "output_type": "stream",
     "text": [
      "favourite_language:\n",
      "python\n",
      "c++\n",
      "java\n",
      "swift\n",
      "cobal\n"
     ]
    }
   ],
   "source": [
    "print(\"favourite_language:\\npython\\nc++\\njava\\nswift\\ncobal\")"
   ]
  },
  {
   "cell_type": "code",
   "execution_count": null,
   "id": "209b2cd0",
   "metadata": {},
   "outputs": [],
   "source": [
    "\\n------> it is called as tab delimiter"
   ]
  },
  {
   "cell_type": "code",
   "execution_count": 27,
   "id": "ac82f54b",
   "metadata": {},
   "outputs": [
    {
     "name": "stdout",
     "output_type": "stream",
     "text": [
      "favourite_language:\n",
      "\tpython\n",
      "\tc++\n",
      "\tjava\n",
      "\tswift\n",
      "\tcobal\n"
     ]
    }
   ],
   "source": [
    "print(\"favourite_language:\\n\\tpython\\n\\tc++\\n\\tjava\\n\\tswift\\n\\tcobal\")"
   ]
  },
  {
   "cell_type": "code",
   "execution_count": null,
   "id": "9986483a",
   "metadata": {},
   "outputs": [],
   "source": [
    "\\t------> it is called as tab delimiter"
   ]
  },
  {
   "cell_type": "code",
   "execution_count": null,
   "id": "6a99e107",
   "metadata": {},
   "outputs": [],
   "source": []
  },
  {
   "cell_type": "code",
   "execution_count": null,
   "id": "8bfb3d06",
   "metadata": {},
   "outputs": [],
   "source": [
    "removing whitespaces from strings :"
   ]
  },
  {
   "cell_type": "code",
   "execution_count": 25,
   "id": "b5d6e7c4",
   "metadata": {},
   "outputs": [
    {
     "name": "stdout",
     "output_type": "stream",
     "text": [
      "python\n"
     ]
    }
   ],
   "source": [
    "name = 'python'\n",
    "print(name)"
   ]
  },
  {
   "cell_type": "code",
   "execution_count": null,
   "id": "5b4ed66c",
   "metadata": {},
   "outputs": [],
   "source": []
  },
  {
   "cell_type": "code",
   "execution_count": 31,
   "id": "528c20c2",
   "metadata": {},
   "outputs": [
    {
     "name": "stdout",
     "output_type": "stream",
     "text": [
      " python\n"
     ]
    }
   ],
   "source": [
    "name2=' python'\n",
    "print(name2)"
   ]
  },
  {
   "cell_type": "code",
   "execution_count": null,
   "id": "3b8fb799",
   "metadata": {},
   "outputs": [],
   "source": []
  },
  {
   "cell_type": "code",
   "execution_count": 32,
   "id": "840f1075",
   "metadata": {},
   "outputs": [
    {
     "name": "stdout",
     "output_type": "stream",
     "text": [
      "python. \n"
     ]
    }
   ],
   "source": [
    "name3='python. '\n",
    "print(name3)"
   ]
  },
  {
   "cell_type": "code",
   "execution_count": null,
   "id": "dd99a63d",
   "metadata": {},
   "outputs": [],
   "source": []
  },
  {
   "cell_type": "code",
   "execution_count": 33,
   "id": "48562a85",
   "metadata": {},
   "outputs": [
    {
     "data": {
      "text/plain": [
       "'python'"
      ]
     },
     "execution_count": 33,
     "metadata": {},
     "output_type": "execute_result"
    }
   ],
   "source": [
    "name2.strip()"
   ]
  },
  {
   "cell_type": "code",
   "execution_count": 34,
   "id": "d039a10b",
   "metadata": {},
   "outputs": [
    {
     "data": {
      "text/plain": [
       "'python.'"
      ]
     },
     "execution_count": 34,
     "metadata": {},
     "output_type": "execute_result"
    }
   ],
   "source": [
    "name3.strip()"
   ]
  },
  {
   "cell_type": "code",
   "execution_count": null,
   "id": "750717b8",
   "metadata": {},
   "outputs": [],
   "source": []
  }
 ],
 "metadata": {
  "kernelspec": {
   "display_name": "Python 3 (ipykernel)",
   "language": "python",
   "name": "python3"
  },
  "language_info": {
   "codemirror_mode": {
    "name": "ipython",
    "version": 3
   },
   "file_extension": ".py",
   "mimetype": "text/x-python",
   "name": "python",
   "nbconvert_exporter": "python",
   "pygments_lexer": "ipython3",
   "version": "3.9.7"
  }
 },
 "nbformat": 4,
 "nbformat_minor": 5
}
